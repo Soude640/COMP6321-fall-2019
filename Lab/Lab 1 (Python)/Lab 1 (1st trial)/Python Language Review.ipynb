{
 "cells": [
  {
   "cell_type": "markdown",
   "metadata": {},
   "source": [
    "## Lab 1: Python Language Review"
   ]
  },
  {
   "cell_type": "code",
   "execution_count": 1,
   "metadata": {},
   "outputs": [
    {
     "name": "stdout",
     "output_type": "stream",
     "text": [
      "42\n"
     ]
    }
   ],
   "source": [
    "x = 42\n",
    "print(x)"
   ]
  },
  {
   "cell_type": "markdown",
   "metadata": {},
   "source": [
    "### Variables\n",
    "\n",
    "Note: \n",
    "\n",
    "1. Variable name and the object which the variable refers to are 2 different things."
   ]
  },
  {
   "cell_type": "code",
   "execution_count": 8,
   "metadata": {},
   "outputs": [
    {
     "name": "stdout",
     "output_type": "stream",
     "text": [
      "15\n",
      "5\n",
      "##############################################\n",
      "True\n",
      "False\n",
      "True\n",
      "True\n",
      "True\n",
      "True\n"
     ]
    }
   ],
   "source": [
    "x = 5\n",
    "y = x\n",
    "x += 10\n",
    "print(x)\n",
    "print(y)\n",
    "\n",
    "##############################################\n",
    "print(\"##############################################\")\n",
    "\n",
    "x = 257  # x is an integer object\n",
    "print(x == 257)  # does x refer to an obj that has same value as 257 (True)\n",
    "print(x is 257)  # does x refer to EXACT same object as value 257 (False, x and 257 are 2 different integer objects)\n",
    "# the value 0~256 is predefined in memory, so if there is 10 objects with value 25 let's say, the 10 objects will refer to the same predefined object\n",
    "\n",
    "\n",
    "# Python tries to save memory by pooling small integers [Question 1 ???]\n",
    "x = 256\n",
    "print(x == 256)\n",
    "print(x is 256)\n",
    "\n",
    "x = -1\n",
    "print(x == -1)\n",
    "print(x is -1)\n"
   ]
  },
  {
   "cell_type": "markdown",
   "metadata": {},
   "source": [
    "## Numbers"
   ]
  },
  {
   "cell_type": "code",
   "execution_count": 20,
   "metadata": {},
   "outputs": [
    {
     "name": "stdout",
     "output_type": "stream",
     "text": [
      "1.5\n",
      "1\n",
      "1\n",
      "##############################################\n",
      "8\n",
      "1.4142135623730951\n",
      "1.4142135623730951\n",
      "##############################################\n",
      "0.001\n",
      "0.001\n",
      "1000.0\n",
      "1000.0\n",
      "##############################################\n",
      "False\n",
      "False\n",
      "True\n",
      "True\n"
     ]
    }
   ],
   "source": [
    "print(3 / 2)\n",
    "print(3 // 2)  # same as below\n",
    "print(int(3 / 2))\n",
    "\n",
    "##############################################\n",
    "print(\"##############################################\")\n",
    "\n",
    "print(2 ** 3)\n",
    "print(2 ** 0.5)\n",
    "import math\n",
    "print(math.sqrt(2))\n",
    "\n",
    "##############################################\n",
    "print(\"##############################################\")\n",
    "\n",
    "print(1e-3)  # floating-point numbers\n",
    "print(float(10 ** (-3)))\n",
    "print(1e3)  # floating-point numbers\n",
    "print(float(10 ** 3))\n",
    "\n",
    "##############################################\n",
    "print(\"##############################################\")\n",
    "\n",
    "print(1e-323 == 0.0)  # floating point in Python has limitations\n",
    "print(1e-323 == 0)\n",
    "print(1e-324 == 0.0)\n",
    "print(1e-324 == 0)"
   ]
  },
  {
   "cell_type": "markdown",
   "metadata": {},
   "source": [
    "## Strings"
   ]
  },
  {
   "cell_type": "code",
   "execution_count": 32,
   "metadata": {},
   "outputs": [
    {
     "name": "stdout",
     "output_type": "stream",
     "text": [
      "hello\n",
      "hello\n",
      "hello\n",
      "##############################################\n",
      "first\n",
      "second\n",
      "first\n",
      "   %^&*%#\n",
      "   \n",
      "second\n",
      "\n",
      "##############################################\n",
      "c\n",
      "4\n",
      "##############################################\n",
      "abcd\n",
      "before abcd after\n",
      "##############################################\n",
      "123\n",
      "##############################################\n",
      "['Dog', 'versus', 'cat']\n",
      "Dog-versus-cat\n",
      "##############################################\n"
     ]
    }
   ],
   "source": [
    "s = 'hello'\n",
    "print(s)\n",
    "s = \"hello\"\n",
    "print(s)\n",
    "s = \"\"\"hello\"\"\"\n",
    "print(s)\n",
    "\n",
    "##############################################\n",
    "print(\"##############################################\")\n",
    "\n",
    "print('first\\nsecond')\n",
    "print(\"\"\"first\n",
    "   %^&*%#\n",
    "   \n",
    "second\n",
    "\"\"\")  # triple-quotes can print multiple lines of text (keep attetion that there is a new line at the end)\n",
    "\n",
    "##############################################\n",
    "print(\"##############################################\")\n",
    "\n",
    "s = 'abcd'\n",
    "print(s[2])\n",
    "print(len(s))\n",
    "\n",
    "##############################################\n",
    "print(\"##############################################\")\n",
    "\n",
    "print(s)\n",
    "s = 'before ' + s + ' after'\n",
    "print(s)\n",
    "\n",
    "##############################################\n",
    "print(\"##############################################\")\n",
    "\n",
    "x = 123\n",
    "print(str(x))\n",
    "\n",
    "##############################################\n",
    "print(\"##############################################\")\n",
    "\n",
    "words = 'Dog versus cat'.split()  # split by whitespace\n",
    "print(words)\n",
    "\n",
    "new_words = '-'.join(words)\n",
    "print(new_words)\n"
   ]
  },
  {
   "cell_type": "markdown",
   "metadata": {},
   "source": [
    "## String formatting"
   ]
  },
  {
   "cell_type": "code",
   "execution_count": 33,
   "metadata": {},
   "outputs": [
    {
     "name": "stdout",
     "output_type": "stream",
     "text": [
      "Jack is 7 years old\n"
     ]
    }
   ],
   "source": [
    "name = 'Jack'\n",
    "age = 7\n",
    "print('%s is %d years old' % (name, age))"
   ]
  },
  {
   "cell_type": "markdown",
   "metadata": {},
   "source": [
    "## Lists\n",
    "\n",
    "Note:\n",
    "\n",
    "1. each slot in a list is a reference/pointer to an object\n"
   ]
  },
  {
   "cell_type": "code",
   "execution_count": 46,
   "metadata": {},
   "outputs": [
    {
     "name": "stdout",
     "output_type": "stream",
     "text": [
      "[]\n",
      "[]\n",
      "[3, 'abc']\n",
      "3\n",
      "[7, 'abc']\n",
      "##############################################\n",
      "[257, 257, 257]\n",
      "[257, 257, 257]\n",
      "False\n",
      "True\n",
      "False\n",
      "##############################################\n",
      "['a', 'b', 'c', 'd']\n",
      "['a', 'c', 'd']\n",
      "d\n",
      "['a', 'c']\n",
      "##############################################\n",
      "['a', 'b', 'c']\n",
      "##############################################\n",
      "['h', 'e', 'l', 'l', 'o']\n",
      "##############################################\n",
      "[[1, 2, 3], ['foo', 'bar']]\n",
      "[1, 2, 3]\n",
      "foo\n"
     ]
    }
   ],
   "source": [
    "# 3 ways to make a list\n",
    "x = []\n",
    "print(x)\n",
    "x = list()\n",
    "print(x)\n",
    "x = [3, 'abc']\n",
    "print(x)\n",
    "\n",
    "print(x[0])\n",
    "x[0] = 7\n",
    "print(x)\n",
    "\n",
    "##############################################\n",
    "print(\"##############################################\")\n",
    "\n",
    "x = 257\n",
    "y = [x, x, 257]\n",
    "print(y)\n",
    "x = 258  # make x points to a new integer object\n",
    "print(y)\n",
    "print(y[0] is x)\n",
    "print(y[0] is y[1])  # the 1st slot and the 2nd slot refer to the same integer object  \n",
    "print(y[0] is y[2])  # the 1st slot and the 3rd slot refer to different objects but with same value\n",
    "\n",
    "##############################################\n",
    "print(\"##############################################\")\n",
    "\n",
    "x = ['a', 'b', 'c']\n",
    "x.append('d')\n",
    "print(x)\n",
    "del x[1]\n",
    "print(x)\n",
    "print(x.pop())  # remove the last slot in the list\n",
    "print(x)\n",
    "\n",
    "##############################################\n",
    "print(\"##############################################\")\n",
    "\n",
    "x = ['a', 'b']\n",
    "y = ['c']\n",
    "print(x + y)\n",
    "\n",
    "##############################################\n",
    "print(\"##############################################\")\n",
    "\n",
    "print(list('hello'))  # a list of 5 string objects\n",
    "\n",
    "##############################################\n",
    "print(\"##############################################\")\n",
    "\n",
    "x = [[1, 2, 3], ['foo', 'bar']]\n",
    "print(x)\n",
    "print(x[0])\n",
    "print(x[1][0])"
   ]
  },
  {
   "cell_type": "markdown",
   "metadata": {},
   "source": [
    "## Immutable types\n",
    "\n",
    "Note:\n",
    "\n",
    "1. an object is immutable if the object's value cannot be changed after initialization\n",
    "2. strings are immutable"
   ]
  },
  {
   "cell_type": "code",
   "execution_count": 52,
   "metadata": {},
   "outputs": [
    {
     "name": "stdout",
     "output_type": "stream",
     "text": [
      "cat\n"
     ]
    }
   ],
   "source": [
    "s = 'cat'\n",
    "# s[0] = 'h'  # a TypeError\n",
    "\n",
    "s.replace(s[0], 'h')  # s refers to a new string\n",
    "print(s)"
   ]
  },
  {
   "cell_type": "markdown",
   "metadata": {},
   "source": [
    "## Tuples\n",
    "\n",
    "Note:\n",
    "\n",
    "1. same as strings, tuples are immutable\n",
    "2. tuples are used for holding function arguments, returning values from functions, assigning multiple variables, swaping variables, etc."
   ]
  },
  {
   "cell_type": "code",
   "execution_count": 57,
   "metadata": {},
   "outputs": [
    {
     "name": "stdout",
     "output_type": "stream",
     "text": [
      "()\n",
      "()\n",
      "(1, 2, 3)\n",
      "(1, 2, 3)\n",
      "##############################################\n",
      "3 5\n",
      "5 3\n"
     ]
    }
   ],
   "source": [
    "# 4 ways to create a tuple\n",
    "x = ()\n",
    "print(x)\n",
    "x = tuple()\n",
    "print(x)\n",
    "x = (1, 2, 3)\n",
    "print(x)\n",
    "x = 1, 2, 3\n",
    "print(x)\n",
    "\n",
    "##############################################\n",
    "print(\"##############################################\")\n",
    "\n",
    "x, y = 3, 5\n",
    "print(x, y)\n",
    "\n",
    "x, y = y, x\n",
    "print(x, y)"
   ]
  },
  {
   "cell_type": "markdown",
   "metadata": {},
   "source": [
    "## Indexing and slicing\n",
    "\n",
    "Note:\n",
    "\n",
    "1. strings, lists, tuples and sequence-like objects can use indexing and slicing"
   ]
  },
  {
   "cell_type": "code",
   "execution_count": 65,
   "metadata": {},
   "outputs": [
    {
     "name": "stdout",
     "output_type": "stream",
     "text": [
      "bc\n",
      "cd\n",
      "cd\n",
      "ab\n",
      "ab\n",
      "bcd\n",
      "bcd\n",
      "##############################################\n",
      "bcd\n",
      "\n",
      "##############################################\n",
      "d\n",
      "d\n"
     ]
    }
   ],
   "source": [
    "x = 'abcd'\n",
    "print(x[1:3])  # 1st and 2nd chars (stop at 3)\n",
    "print(x[2:])\n",
    "print(x[2:len(x)])\n",
    "print(x[:2])\n",
    "print(x[0:2])\n",
    "i, n = 1, 3\n",
    "print(x[i:i+n])  # 1st, 2nd and 3rd chars (step at 4)\n",
    "print(x[1:4])\n",
    "\n",
    "##############################################\n",
    "print(\"##############################################\")\n",
    "\n",
    "print(x[1:100])  # ok, but print only till the end\n",
    "print(x[50:100])  # ok, but won't print anything\n",
    "\n",
    "##############################################\n",
    "print(\"##############################################\")\n",
    "\n",
    "print(x[-1])  # print the last item\n",
    "print(x[len(x) - 1])"
   ]
  }
 ],
 "metadata": {
  "kernelspec": {
   "display_name": "Python 3",
   "language": "python",
   "name": "python3"
  },
  "language_info": {
   "codemirror_mode": {
    "name": "ipython",
    "version": 3
   },
   "file_extension": ".py",
   "mimetype": "text/x-python",
   "name": "python",
   "nbconvert_exporter": "python",
   "pygments_lexer": "ipython3",
   "version": "3.7.3"
  }
 },
 "nbformat": 4,
 "nbformat_minor": 2
}
