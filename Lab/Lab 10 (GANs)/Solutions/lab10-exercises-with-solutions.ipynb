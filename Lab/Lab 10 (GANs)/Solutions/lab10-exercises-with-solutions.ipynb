{
 "cells": [
  {
   "cell_type": "markdown",
   "metadata": {},
   "source": [
    "# Lab 10 - Generative Adversarial Networks (GANs)\n",
    "\n",
    "In this lab you'll use [PyTorch](https://pytorch.org/) to train a *generative adversarial network* on synthetic data. Here is the original publication that introduced GANs:\n",
    "\n",
    "* Goodfellow et al. **Generative Adversarial Nets**, NeurIPS 2014 ([PDF](http://papers.nips.cc/paper/5423-generative-adversarial-nets.pdf))\n",
    "\n",
    "GANs will be covered in lecture. Lab 10 introduces the basics and provides enough starter code to try GANs out for yourself.\n",
    "\n",
    "**What are GANs?**\n",
    "\n",
    "GANs are a type of *generative* model. You already trained a generative model: the GMMs in Lab 3. However, GANs are based on neural networks and are more flexible.\n",
    "\n",
    "If we sample from an untrained GAN, we get useless random noise. The same is true of sampling from an untrained GMM.\n",
    "\n",
    "If we sample from a *trained* GAN, we get data that qualitatively resembles the training data. Again, this is similar to training a GMM, except GANs don't assume the training data is a mixture of Gaussians.\n",
    "\n",
    "**What makes GANs \"adversarial\"?**\n",
    "\n",
    "GANs are trained according to a very intuitive criterion:\n",
    "\n",
    "<blockquote>If the samples drawn from a GAN are <em>indistinguishable</em> from the real data, then they are good samples!\n",
    "</blockquote>\n",
    "\n",
    "*The GAN training objective therefore aims to \"minimize distinguishability.\"* It is of course possible to just memorize the training data, but that is a trivial kind of overfitting.\n",
    "\n",
    "In the GAN training setup, distinguishability is measured by the degree to which a second model, the *discriminator*, is able to classify real versus fake (generated) data. If the discriminator model cannot tell the difference between real and fake, then it must mean the samples we draw from the generator (the GAN) are realistic.\n",
    "\n",
    "The discriminator and generator are thus in competition, as adversaries:\n",
    "* the generator's weights are being adjusted to better \"fool\" the discriminator, tricking it into classifying fake data as \"real.\"\n",
    "* the discriminator's weights are being adjusted to better distinguish (classify) the generator's data as \"fake.\"\n",
    "\n",
    "Once the training is complete, the discriminator is typically thrown away&mdash;its sole job is to provide a constant \"challenge\" to the generator throughout the generator's training process.\n",
    "\n",
    "**How is GAN training formulated?**\n",
    "\n",
    "The problem setup is as follows:\n",
    "* You are given training samples $\\{\\mathbf{x}_1, \\ldots, \\mathbf{x}_N\\}$ with $\\mathbf{x}_i \\in \\mathbb{R}^M$ that represent \"real\" data, for example hand-written digits.\n",
    "* Your goal is to train the weights $\\mathbf{w}$ of a generative model $G_\\mathbf{w} : \\mathbb{R}^K \\rightarrow \\mathbb{R}^M$ so that it can transform samples $\\mathbf{z} \\in \\mathbb{R}^K$ from a standard distribution (*e.g.* uniform, normal) into points $\\mathbf{\\tilde{x}} \\in \\mathbb{R}^M$ that are indistinguishable from the real data.\n",
    "* Distinguishability is measured by a discriminator model $D_\\mathbf{w} : \\mathbb{R}^M \\rightarrow \\mathbb{R}$ that takes either a real $\\mathbf{x}_i$ or a fake $\\mathbf{\\tilde{x}}$ sample as input and classifies it as real (1) or fake (0); the discriminator has its own distinct weights $\\mathbf{w}$ that need to be continually trained to \"keep up\" with improvements to the generator $G$.\n",
    "\n",
    "Therefore, the training loop should try to achieve three things:\n",
    "1. Train $D$ to predict \"real\" ($\\hat{y}=1$) when evaluating $\\hat{y} = D(\\mathbf{x}_i)$ for any real training point $\\mathbf{x}_i$.\n",
    "2. Train $D$ to predict \"fake\" ($\\hat{y}=0$) when evaluating $\\hat{y} = D(\\mathbf{\\tilde{x}})$ for any fake data point $\\mathbf{\\tilde{x}} = G(\\mathbf{z})$.\n",
    "3. Train $G$ to make $D$ predict \"real\" ($\\hat{y}=1$) when evaluating $\\hat{y} = D(\\mathbf{\\tilde{x}})$ for any fake data point $\\mathbf{\\tilde{x}} = G(\\mathbf{z})$.\n",
    "\n",
    "The training scheme is \"adversarial\" because the 2nd and 3rd items are competing objectives, *i.e.* the generator and discriminator are \"fighting\" over whether to predict $1$ (real) or $0$ (fake) when the discriminator classifies a fake data point.\n",
    "\n",
    "\n",
    "**Run the code cell below** to import the required packages."
   ]
  },
  {
   "cell_type": "code",
   "execution_count": 93,
   "metadata": {},
   "outputs": [],
   "source": [
    "import numpy as np\n",
    "import matplotlib.pyplot as plt\n",
    "import torch\n",
    "import time      # for sleep\n",
    "import IPython   # for display, clear_output\n",
    "np.set_printoptions(precision=3, suppress=True)  # Print array values as 0.0023 instead of 2.352e-3\n",
    "torch.set_printoptions(precision=3, sci_mode=False)"
   ]
  },
  {
   "cell_type": "markdown",
   "metadata": {},
   "source": [
    "One of the exercises will ask you to generate a plot that keeps updating as your GAN is trained.\n",
    "\n",
    "**Run the code cell below** to view a demo of how to make a plot that updates within a loop. You can use this as a reference. <span style=\"color:red\">Note that you cannot also use the *print* function in a loop where you also update the plot.</span>"
   ]
  },
  {
   "cell_type": "code",
   "execution_count": 341,
   "metadata": {},
   "outputs": [
    {
     "data": {
      "image/png": "[encoded data removed]",
      "text/plain": [
       "<Figure size 432x288 with 1 Axes>"
      ]
     },
     "metadata": {
      "needs_background": "light"
     },
     "output_type": "display_data"
    }
   ],
   "source": [
    "for i in range(1, 21):\n",
    "    \n",
    "    # Clear the current figure's axes\n",
    "    plt.gca().cla()\n",
    "    \n",
    "    # Generate the plot\n",
    "    xvals = np.linspace(-1, 1, i)\n",
    "    plt.plot(xvals, xvals**2, '.-r')         # Plot range x^2 over [-1,1] with i steps\n",
    "    plt.xlim(-1, 1)\n",
    "    plt.ylim(0, 1)\n",
    "    plt.gca().set_aspect('equal')\n",
    "    plt.title('Using %d steps' % i)\n",
    "    \n",
    "    # Replace the old plot with the new one\n",
    "    IPython.display.display(plt.gcf())       # Tell Jupyter to show Matplotlib's current figure\n",
    "    IPython.display.clear_output(wait=True)  # Tell Jupyter to clear whatever it's currently showing\n",
    "    time.sleep(0.02)                         # Small delay to slow animation (optional)"
   ]
  },
  {
   "cell_type": "markdown",
   "metadata": {},
   "source": [
    "**Run the code cell below** to define a plotting function that is useful for visualizing the weights of neural networks and images."
   ]
  },
  {
   "cell_type": "code",
   "execution_count": 129,
   "metadata": {},
   "outputs": [],
   "source": [
    "x1lim = (-4, 4)\n",
    "x2lim = (-4, 4)\n",
    "\n",
    "def plot_discriminator(discriminator):\n",
    "    \"\"\"Plot the class probabilities of the discriminator (red: fake, blue: real).\"\"\"\n",
    "    x1, x2 = torch.meshgrid(torch.linspace(*x1lim, 100), torch.linspace(*x2lim, 100))\n",
    "    X = torch.cat([x1.t().reshape(-1, 1), x2.t().reshape(-1, 1)], 1)\n",
    "    y = torch.sigmoid(discriminator(X))\n",
    "    y = y.view(x1.shape).detach()\n",
    "    plt.imshow(1-y, extent=x1lim+x2lim, origin='lower', vmin=0, vmax=1, cmap='bwr', alpha=0.25)\n",
    "    if y.min() < 0.5 and y.max() > 0.5:\n",
    "        plt.contour(x1.t(), x2.t(), y, levels=[0.5], colors='k', linewidths=1, alpha=0.15)\n",
    "    plt.xlim(*x1lim)\n",
    "    plt.ylim(*x2lim)\n",
    "    plt.gca().set_aspect('equal')"
   ]
  },
  {
   "cell_type": "markdown",
   "metadata": {},
   "source": [
    "<div style=\"border-bottom: 3px solid black; margin-bottom:5px\"></div>\n",
    "<div style=\"border-bottom: 3px solid black\"></div>\n",
    "\n",
    "# 1. Learn how a GAN works\n",
    "\n",
    "Exercise 1.1&ndash;1.5 ask you to generate a synthetic training set, then to train a GAN to mimick your synthetic data using the existing starter code."
   ]
  },
  {
   "cell_type": "markdown",
   "metadata": {},
   "source": [
    "<div style=\"border-bottom: 3px solid black;\"></div>\n",
    "\n",
    "### Exercise 1.1 &mdash; Write a function to sample the training set $\\{\\mathbf{x}_i\\}_{i=1}^{N}$\n",
    "\n",
    "You are given a synthetic training set and must write a function that returns a random subsample. The function you write will be by the GAN training loop.\n",
    "\n",
    "**Run the code cell below** to first define a full synthetic training set."
   ]
  },
  {
   "cell_type": "code",
   "execution_count": 222,
   "metadata": {},
   "outputs": [],
   "source": [
    "torch.manual_seed(0)  # Make cell output reproducible\n",
    "W_real = torch.tensor([[1.5, 0.0], [0.0, 3.0]])\n",
    "b_real = torch.tensor([-3.0,  -2.0])\n",
    "X_real = torch.rand((1000, 2)) @ W_real + b_real"
   ]
  },
  {
   "cell_type": "markdown",
   "metadata": {},
   "source": [
    "**Implement the *sample_real_data* function.** Use **[torch.randint](https://pytorch.org/docs/1.2.0/torch.html?highlight=randint#torch.randint)** in your answer."
   ]
  },
  {
   "cell_type": "code",
   "execution_count": 223,
   "metadata": {},
   "outputs": [],
   "source": [
    "def sample_real_data(batch_size):\n",
    "    \"\"\"\n",
    "    Returns batch_size samples randomly selected from X_real, with replacement.\n",
    "    The resulting array has shape (batch_size, 2).\n",
    "    \"\"\"\n",
    "    # Your code here. Aim for 1-3 lines.\n",
    "    indices = torch.randint(len(X_real), (batch_size,))\n",
    "    return X_real[indices]"
   ]
  },
  {
   "cell_type": "markdown",
   "metadata": {},
   "source": [
    "**Check your answer** by running the code cell below."
   ]
  },
  {
   "cell_type": "code",
   "execution_count": 17,
   "metadata": {},
   "outputs": [
    {
     "name": "stdout",
     "output_type": "stream",
     "text": [
      "Looks good!\n"
     ]
    }
   ],
   "source": [
    "_X = sample_real_data(5)\n",
    "assert isinstance(_X, torch.FloatTensor), \"Expected a tensor of dtype float32.\"\n",
    "assert _X.shape == (5, 2), \"Expected tensor of shape (batch_size, 2).\"\n",
    "for _x in _X:\n",
    "    assert torch.all(_x == X_real, 1).sum() == 1, \"Expected each sample in batch to come from X_real\"\n",
    "assert not torch.equal(_X, sample_real_data(5)), \"Expected different samples each time called.\"\n",
    "assert sample_real_data(13).shape == (13, 2)\n",
    "assert sample_real_data(2000).shape == (2000, 2), \"Forgot to sample with replacement?\"\n",
    "print(\"Looks good!\")"
   ]
  },
  {
   "cell_type": "markdown",
   "metadata": {},
   "source": [
    "**Plot a sample of training data.** Call your *sample_real_data* function to plot 100 training samples. Your plot should look like\n",
    "![image](img/sample_real_data_uniform.png)"
   ]
  },
  {
   "cell_type": "code",
   "execution_count": 335,
   "metadata": {},
   "outputs": [
    {
     "data": {
      "image/png": "[encoded data removed]",
      "text/plain": [
       "<Figure size 432x288 with 1 Axes>"
      ]
     },
     "metadata": {
      "needs_background": "light"
     },
     "output_type": "display_data"
    }
   ],
   "source": [
    "torch.manual_seed(0)  # Make cell output reproducible\n",
    "\n",
    "# Your plotting code here. Aim for 5-7 lines.\n",
    "X = sample_real_data(100)\n",
    "plt.plot(*X.T, '.b', alpha=0.3, markeredgecolor='none');\n",
    "plt.xlim(*x1lim)\n",
    "plt.ylim(*x2lim)\n",
    "plt.gca().set_aspect('equal')\n",
    "plt.title('sample of real data $\\\\mathbf{x}_i$');"
   ]
  },
  {
   "cell_type": "markdown",
   "metadata": {},
   "source": [
    "<div style=\"border-bottom: 3px solid black;\"></div>\n",
    "\n",
    "### Exercise 1.2 &mdash; Create a source of noise $\\mathbf{z}$\n",
    "\n",
    "Recall that a GAN starts from a value $\\mathbf{z}$ that was sampled from a standard random distribution (*e.g.* uniform, normal) and then transforms it into a new data point $\\mathbf{\\hat{x}} = G(\\mathbf{z})$.\n",
    "\n",
    "**Implement the *sample_fake_noise* function.** Use the **[torch.rand](https://pytorch.org/docs/stable/torch.html?highlight=rand#torch.rand)** function to generate random samples $\\mathbf{z} \\sim U(-\\frac{1}{2}, \\frac{1}{2})^2$, *i.e.* in the 2-dimensional unit square centered at the origin where $z_1,z_2 \\in [-\\frac{1}{2}, \\frac{1}{2}]$."
   ]
  },
  {
   "cell_type": "code",
   "execution_count": 307,
   "metadata": {},
   "outputs": [],
   "source": [
    "def sample_fake_noise(batch_size):\n",
    "    \"\"\"\n",
    "    Returns batch_size samples of 2-dimensional noise on the unit inverval [-0.5, 0.5].\n",
    "    The returned tensor has shape (batch_size, 2).\n",
    "    \"\"\"\n",
    "    # Your code here. Aim for 1-2 lines.\n",
    "    return torch.rand((batch_size, 2)) - 0.5"
   ]
  },
  {
   "cell_type": "markdown",
   "metadata": {},
   "source": [
    "**Check your answer** by running the code cell below."
   ]
  },
  {
   "cell_type": "code",
   "execution_count": 308,
   "metadata": {},
   "outputs": [
    {
     "name": "stdout",
     "output_type": "stream",
     "text": [
      "Looks good!\n"
     ]
    }
   ],
   "source": [
    "_Z = sample_fake_noise(5)\n",
    "assert isinstance(_Z, torch.FloatTensor), \"Expected a tensor of dtype float32\"\n",
    "assert _Z.shape == (5, 2), \"Expected noise to have shape (batch_size, 2)\"\n",
    "assert torch.all((_Z >= -0.5) & (_Z <= 0.5)), \"Expected uniform distribution centered at 0\"\n",
    "print(\"Looks good!\")"
   ]
  },
  {
   "cell_type": "markdown",
   "metadata": {},
   "source": [
    "**Plot a sample of your noise.** Your plot should look like\n",
    "![image](img/sample_noise_uniform.png)"
   ]
  },
  {
   "cell_type": "code",
   "execution_count": 334,
   "metadata": {},
   "outputs": [
    {
     "data": {
      "image/png": "[encoded data removed]",
      "text/plain": [
       "<Figure size 432x288 with 1 Axes>"
      ]
     },
     "metadata": {
      "needs_background": "light"
     },
     "output_type": "display_data"
    }
   ],
   "source": [
    "torch.manual_seed(1)  # Make cell output reproducible\n",
    "\n",
    "# Your plotting code here. Aim for 5-7 lines.\n",
    "Z = sample_fake_noise(100)\n",
    "plt.plot(*Z.T, '.k', alpha=0.3, markeredgecolor='none', markersize=5);\n",
    "plt.xlim(*x1lim)\n",
    "plt.ylim(*x2lim)\n",
    "plt.gca().set_aspect('equal')\n",
    "plt.title('sample of noise $\\\\mathbf{z}$');"
   ]
  },
  {
   "cell_type": "markdown",
   "metadata": {},
   "source": [
    "<div style=\"border-bottom: 3px solid black;\"></div>\n",
    "\n",
    "### Exercise 1.3 &mdash; Create an untrained GAN generator\n",
    "\n",
    "You are asked to define a generator model in PyTorch. Your generator $G:\\mathbb{R}^2 \\rightarrow \\mathbb{R}^2$ should be a linear transformation, taking the form $G(\\mathbf{z}) = \\mathbf{W} \\mathbf{z} + \\mathbf{b}$ for some trainable parameters $\\mathbf{W}, \\mathbf{b}$.\n",
    "\n",
    "**Write a few lines of code** to create a *generator* variable that refers to a PyTorch module implementing the the above transformation. You can use the built-in transformations provided by PyTorch, so this is no different than in Lab 8."
   ]
  },
  {
   "cell_type": "code",
   "execution_count": 418,
   "metadata": {},
   "outputs": [],
   "source": [
    "torch.manual_seed(5)  # Make cell output reproducible\n",
    "\n",
    "# Your code here. Aim for 1-3 lines.\n",
    "generator = torch.nn.Sequential(\n",
    "    torch.nn.Linear(2, 2),\n",
    "    \n",
    "#    torch.nn.Linear(2, 10),\n",
    "#    torch.nn.ReLU(),\n",
    "#    torch.nn.Linear(10, 2),\n",
    ")"
   ]
  },
  {
   "cell_type": "markdown",
   "metadata": {},
   "source": [
    "**Check your answer** by running the code cell below."
   ]
  },
  {
   "cell_type": "code",
   "execution_count": 419,
   "metadata": {},
   "outputs": [
    {
     "name": "stdout",
     "output_type": "stream",
     "text": [
      "Looks good!\n"
     ]
    }
   ],
   "source": [
    "assert \"generator\" in globals(), \"Expected generator variable to be defined.\"\n",
    "assert isinstance(generator, torch.nn.Module), \"Generator should be a torch module of some type.\"\n",
    "assert generator(torch.zeros((5, 2))).shape == (5, 2), \"Output seems to be wrong shape/dimension.\"\n",
    "print(\"Looks good!\")"
   ]
  },
  {
   "cell_type": "markdown",
   "metadata": {},
   "source": [
    "**Implement the *sample_fake_data* function.** Use your *sample_fake_noise* function from earlier. Obviously your function should make use of the *generator* variable you defined earlier."
   ]
  },
  {
   "cell_type": "code",
   "execution_count": 420,
   "metadata": {},
   "outputs": [],
   "source": [
    "def sample_fake_data(batch_size):\n",
    "    \"\"\"\n",
    "    Returns batch_size samples from the current generator.\n",
    "    The returned tensor has shape (batch_size, 2).\n",
    "    \"\"\"\n",
    "    # Your code here. Aim for 1-2 lines.\n",
    "    Z = sample_fake_noise(batch_size)\n",
    "    return generator(Z)"
   ]
  },
  {
   "cell_type": "markdown",
   "metadata": {},
   "source": [
    "**Plot a sample of fake data** alongside a sample of noise. Recall that your generator has weights $\\mathbf{w}$ that are initialized to be small random values, so you should see some arbitrary transformation like this:\n",
    "![image](img/sample_fake_data_uniform.png)\n",
    "\n",
    "*Note.* When you try to plot a PyTorch tensor, Matplotlib asks the tensor to convert itself to a Numpy array. However, any tensor that is the output of a PyTorch \"Module\" will have gradient tracking enabled (the tensor will be \"attached\" to a compute graph). You may need to call the **[detach](   https://pytorch.org/docs/1.2.0/tensors.html?highlight=detach#torch.Tensor.detach)** method on such tensors before you can plot with them."
   ]
  },
  {
   "cell_type": "code",
   "execution_count": 421,
   "metadata": {},
   "outputs": [
    {
     "data": {
      "image/png": "[encoded data removed]",
      "text/plain": [
       "<Figure size 432x288 with 1 Axes>"
      ]
     },
     "metadata": {
      "needs_background": "light"
     },
     "output_type": "display_data"
    }
   ],
   "source": [
    "# Your plotting code here. Aim for 7-9 lines.\n",
    "Z = sample_fake_noise(100)\n",
    "X = sample_fake_data(100).detach()\n",
    "plt.plot(*Z.T, '.k', alpha=0.3, markeredgecolor='none', markersize=5);\n",
    "plt.plot(*X.T, '.r', alpha=0.3, markeredgecolor='none', markersize=5);\n",
    "plt.xlim(*x1lim)\n",
    "plt.ylim(*x2lim)\n",
    "plt.gca().set_aspect('equal')\n",
    "plt.title('sample of fake data $\\\\mathbf{\\\\tilde{x}}=G(\\\\mathbf{z})$');"
   ]
  },
  {
   "cell_type": "markdown",
   "metadata": {},
   "source": [
    "<div style=\"border-bottom: 3px solid black;\"></div>\n",
    "\n",
    "### Exercise 1.4 &mdash; Create an untrained GAN discriminator\n",
    "\n",
    "You are asked to define a discriminator model in PyTorch. Your discriminator $D:\\mathbb{R}^2 \\rightarrow \\mathbb{R}$ should also be a linear transformation, taking the form $D(\\mathbf{x}) = \\mathbf{W} \\mathbf{x} + \\mathbf{b}$ for some trainable parameters $\\mathbf{W}, \\mathbf{b}$. The sigmoid for binary classification will be applied later.\n",
    "\n",
    "**Write a few lines of code** to create a *discriminator* variable that refers to a PyTorch module implementing the the above transformation."
   ]
  },
  {
   "cell_type": "code",
   "execution_count": 422,
   "metadata": {},
   "outputs": [],
   "source": [
    "torch.manual_seed(5)  # Make cell output reproducible\n",
    "\n",
    "# Your code here. AIm for 1-3 lines.\n",
    "\n",
    "class QuadraticFeatures(torch.nn.Module):  # This is from Part 2\n",
    "    def forward(self, x):\n",
    "        x1, x2 = x.t()\n",
    "        return torch.stack([x1, x2, 0.1*x1*x2, 0.1*x1*x1, 0.1*x2*x2], 1)\n",
    "\n",
    "discriminator = torch.nn.Sequential(\n",
    "    #torch.nn.Linear(2, 1),\n",
    "    \n",
    "#    QuadraticFeatures(),\n",
    "#    torch.nn.Linear(5, 1),\n",
    "    \n",
    "    torch.nn.Linear(2, 50),\n",
    "    torch.nn.ReLU(),\n",
    "    torch.nn.Linear(50, 1),\n",
    ")"
   ]
  },
  {
   "cell_type": "markdown",
   "metadata": {},
   "source": [
    "**Check your answer** by running the code cell below."
   ]
  },
  {
   "cell_type": "code",
   "execution_count": 423,
   "metadata": {},
   "outputs": [
    {
     "name": "stdout",
     "output_type": "stream",
     "text": [
      "Looks good!\n"
     ]
    }
   ],
   "source": [
    "assert \"discriminator\" in globals(), \"Expected discriminator variable to be defined.\"\n",
    "assert isinstance(discriminator, torch.nn.Module), \"Discriminator should be a torch module.\"\n",
    "assert discriminator(torch.zeros((5, 2))).shape == (5, 1), \"Output seems to be wrong shape/dimension.\"\n",
    "print(\"Looks good!\")"
   ]
  },
  {
   "cell_type": "markdown",
   "metadata": {},
   "source": [
    "<div style=\"border-bottom: 3px solid black;\"></div>\n",
    "\n",
    "### Exercise 1.5 &mdash; Train your GAN on the synthetic training data\n",
    "\n",
    "The GAN training objective includes:\n",
    "* a binary cross entropy loss applied to the output of the discriminator\n",
    "* a stochastic gradient descent optimizer for the discriminator weights\n",
    "* a stochastic gradient descent optimizer for the generator weights\n",
    "* a function to do forward and backpropagation for the discriminator\n",
    "* a function to do forward and backpropagation for the generator\n",
    "\n",
    "**Run the code cell below** to set up these elements so that training is ready."
   ]
  },
  {
   "cell_type": "code",
   "execution_count": 424,
   "metadata": {},
   "outputs": [],
   "source": [
    "loss = torch.nn.BCEWithLogitsLoss()\n",
    "discriminator_optim = torch.optim.SGD(discriminator.parameters(), lr=0.01, momentum=0.8)\n",
    "generator_optim     = torch.optim.SGD(generator.parameters(),     lr=0.01, momentum=0.8)\n",
    "\n",
    "# Use 100 samples of real and fake data per update.\n",
    "batch_size = 100\n",
    "\n",
    "# Create vectors to act as binary training targets\n",
    "y_real = torch.ones((batch_size, 1))   # 1 means \"this data point is real\"\n",
    "y_fake = torch.zeros((batch_size, 1))  # 0 means \"this data point is fake\"\n",
    "\n",
    "def update_discriminator():\n",
    "    discriminator.zero_grad()         # Get ready to accumulate gradient for discriminator weights.\n",
    "    \n",
    "    X = sample_real_data(batch_size)  # Sample real data.\n",
    "    y = discriminator(X)              # Predict real or fake.\n",
    "    l = loss(y, y_real)               # Discriminator wants to predict \"real\" for these cases.\n",
    "    l.backward()                      # Accumulate discriminator gradient.\n",
    "    \n",
    "    X = sample_fake_data(batch_size).detach()  # Sample fake data. (Detach so no generator gradient.)\n",
    "    y = discriminator(X)                       # Predict real or fake.\n",
    "    l = loss(y, y_fake)                        # Discriminator Wants to predict \"fake\" for these.\n",
    "    l.backward()                               # Accumulate discriminator gradient.\n",
    "    \n",
    "    discriminator_optim.step()        # Use gradient to improve the discriminator!\n",
    "\n",
    "def update_generator():\n",
    "    generator.zero_grad()             # Get ready to accumulate gradient for generator weights.\n",
    "    \n",
    "    X = sample_fake_data(batch_size)  # Sample fake data. (Don't detach, so backprop to generator.)\n",
    "    y = discriminator(X)              # Predict real or fake.\n",
    "    l = loss(y, y_real)               # Generator wants discriminator to predict \"real\" for these.\n",
    "    l.backward()                      # Accumulate generator gradient, backprop through discriminator!\n",
    "    \n",
    "    generator_optim.step()            # Use gradient to improve generator!"
   ]
  },
  {
   "cell_type": "markdown",
   "metadata": {},
   "source": [
    "**Add plotting code to the GAN training loop below.** You should use the \"plot updating\" technique demonstrated at the start of this lab. If you only ran the training loop for 1 step the first plot should look like this:\n",
    "![image](img/gan_training_linear_epoch0001.png)\n",
    "After 500 steps your plot should look more like this:\n",
    "![image](img/gan_training_linear_epoch0500.png)\n",
    "You can re-run the code cell to continue training an additional 500 steps, from whatever the most recent parameters were. If you want to reset the training, you must go back and re-run the code cell defining *generator* and all subsequent code cells.\n",
    "\n",
    "*Tip 1:* Plotting is slow, so if you want to speed up training, consider only updating the plot every 10th step. You can use the module `%` operator to do this.\n",
    "\n",
    "*Tip 2:* If you wish the points in your plot to remain consistent, rather than being a different random sample each time, you can use the *torch.manual_seed* function immediately prior to plotting.\n",
    "\n",
    "*Tip 3:* Plotting is slow, so if you want to speed up training, consider only updating the plot every 10th step. You can use the module `%` operator to do this.\n"
   ]
  },
  {
   "cell_type": "code",
   "execution_count": 425,
   "metadata": {},
   "outputs": [
    {
     "data": {
      "image/png": "[encoded data removed]",
      "text/plain": [
       "<Figure size 432x288 with 1 Axes>"
      ]
     },
     "metadata": {
      "needs_background": "light"
     },
     "output_type": "display_data"
    }
   ],
   "source": [
    "num_steps = 2000\n",
    "for step in range(1, num_steps+1):\n",
    "    update_discriminator()\n",
    "    update_generator()\n",
    "                \n",
    "    # Your plotting code here. Aim for 10-14 lines.\n",
    "    if step == 1 or (step % 10 == 0):\n",
    "        plt.gca().cla()\n",
    "        \n",
    "        torch.manual_seed(0)\n",
    "        X_real_sample = sample_real_data(batch_size)\n",
    "        X_fake_sample = sample_fake_data(batch_size).detach()\n",
    "\n",
    "        plot_discriminator(discriminator)\n",
    "        plt.plot(*X_real_sample.T, '.b', alpha=0.3, markeredgecolor='none', label='real');\n",
    "        plt.plot(*X_fake_sample.T, '.r', alpha=0.3, markeredgecolor='none', label='fake');\n",
    "        plt.title('step %d' % step)\n",
    "        \n",
    "        IPython.display.display(plt.gcf())\n",
    "        IPython.display.clear_output(wait=True)"
   ]
  },
  {
   "cell_type": "markdown",
   "metadata": {},
   "source": [
    "Since we generate both the training data $\\mathbf{x}_i$ and the random noise $\\mathbf{z}$ from a uniform distribution, we know that a linear generator $G$ is capable, in principle, of fitting to this data.\n",
    "\n",
    "However, given that the linear discriminator $D$ is only capable of a linear decision boundary in feature space, you may observe that the best it can do is to center the fake points within the cloud of blue points. To get a tighter fit to the data, a more powerful discriminator is required.\n"
   ]
  },
  {
   "cell_type": "markdown",
   "metadata": {},
   "source": [
    "<div style=\"border-bottom: 3px solid black; margin-bottom:5px\"></div>\n",
    "<div style=\"border-bottom: 3px solid black\"></div>\n",
    "\n",
    "# 2. Modify your generator and discriminator architectures\n",
    "\n",
    "Exercise 2.1&ndash;2.2 ask you to try more sophisticated generator and discriminator architectures, to understand how they impact the training dynamics and the complexity of the distribution.\n",
    "\n",
    "Rather than writing new code, you will have to go back to Exercise 1 and edit your existing answers. *Remember to always re-run all code cells that follow your edit.* Otherwise some of your code cells may be keeping references to old versions of your objects (old generator, old discriminator, etc.)"
   ]
  },
  {
   "cell_type": "markdown",
   "metadata": {},
   "source": [
    "<div style=\"border-bottom: 3px solid black;\"></div>\n",
    "\n",
    "### Exercise 2.1 &mdash; Use quadratic features in your discriminator\n",
    "\n",
    "You should learn how to define your own PyTorch module, as a class inherited from **[torch.nn.Module](https://pytorch.org/docs/1.2.0/nn.html#torch.nn.Module)**.\n",
    "\n",
    "Go back to Exercise 1.4 and define a new custom module class called *QuadraticFeatures*. The purpose is to transform data $\\mathbf{x}=\\begin{bmatrix}x_1 & x_2 \\end{bmatrix}$ into a 5-dimensional feature space $\\mathbf{\\phi}(\\mathbf{x})=\\begin{bmatrix} x_1 & x_2 & \\frac{1}{10}x_1^2 & \\frac{1}{10}x_2^2 & \\frac{1}{10}x_1 x_2\\end{bmatrix}$ for classification. The discriminator can thus produce non-linear decision boundaries in the original data space, and have more discriminative power.\n",
    "\n",
    "*Tip:* The **[torch.stack](https://pytorch.org/docs/1.2.0/torch.html?highlight=stack#torch.stack)** function may be convenient.\n",
    "\n",
    "After re-running all the necessary code cells (including the code cell resetting the *generator*) and training for many steps, you should see a fit more like this:\n",
    "\n",
    "![image](img/gan_training_quadratic_epoch5000.png)\n",
    "\n",
    "(As for the $\\frac{1}{10}$ coefficients, remember what happens to gradient-based training if you don't scale down the quadratic features!)"
   ]
  },
  {
   "cell_type": "markdown",
   "metadata": {},
   "source": [
    "<div style=\"border-bottom: 3px solid black;\"></div>\n",
    "\n",
    "### Exercise 2.2 &mdash; Use a ReLU layer in your discriminator\n",
    "\n",
    "Go back to Exercise 1.4 and, instead of quadratic features, use a discriminator that is a 2-50-1 ReLU neural network. In other words, add a hidden layer with 50 ReLU units to your discriminator.\n",
    "\n",
    "After re-running all the necessary code cells, you should see a fit more like this:\n",
    "\n",
    "![image](img/gan_training_relu_epoch2000.png)"
   ]
  },
  {
   "cell_type": "markdown",
   "metadata": {},
   "source": [
    "<div style=\"border-bottom: 3px solid black;\"></div>\n",
    "\n",
    "### Other exercises\n",
    "\n",
    "* Try adding hidden layers to your generator, too!\n",
    "* Try creating multi-modal training data!\n",
    "* Try training a GAN on MNIST digits! (may take time)"
   ]
  }
 ],
 "metadata": {
  "kernelspec": {
   "display_name": "Python 3",
   "language": "python",
   "name": "python3"
  },
  "language_info": {
   "codemirror_mode": {
    "name": "ipython",
    "version": 3
   },
   "file_extension": ".py",
   "mimetype": "text/x-python",
   "name": "python",
   "nbconvert_exporter": "python",
   "pygments_lexer": "ipython3",
   "version": "3.7.3"
  }
 },
 "nbformat": 4,
 "nbformat_minor": 2
}
